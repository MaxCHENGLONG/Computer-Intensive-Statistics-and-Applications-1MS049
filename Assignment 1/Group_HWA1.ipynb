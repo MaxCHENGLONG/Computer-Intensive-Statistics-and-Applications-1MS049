{
 "cells": [
  {
   "cell_type": "markdown",
   "metadata": {},
   "source": [
    "# Group HWA1 - 2"
   ]
  },
  {
   "cell_type": "markdown",
   "metadata": {},
   "source": [
    "Draw $X$ from density $g(x)$\n",
    "- the upper bound $\\overline{h}_n(x) = \\log\\{M_ng_n(x)\\}$\n",
    "- $\\overline{h}_n(x) = \\log\\{M_ng_n(x)\\}$ is formed by piecewise linear functions \n",
    "- It is formed by $r_n$ linear functions<br>\n",
    "$$\n",
    "g_n(x) = M_n^{-1} \\left\\{\n",
    "    \\exp(a_{-1} + b_{-1} x) 1_{[-\\infty, x_0]}(x) + \n",
    "    \\sum_{j=0}^{r_n} \\exp(a_j + b_j x) 1_{[x_j, x_{j+1}]}(x) + \n",
    "    \\exp(a_{r_n+1} + b_{r_n+1} x) 1_{[x_{r_n+1}, \\infty]}(x)\n",
    "\\right\\}\n",
    "$$\n",
    "where $M_n$ is the normalizaing constant that makes $g_n(x)$ a density function."
   ]
  },
  {
   "cell_type": "code",
   "execution_count": 5,
   "metadata": {},
   "outputs": [],
   "source": [
    "import pandas as pd\n",
    "import numpy as np\n",
    "import matplotlib.pyplot as plt"
   ]
  },
  {
   "cell_type": "code",
   "execution_count": null,
   "metadata": {},
   "outputs": [],
   "source": [
    "# parameters\n"
   ]
  },
  {
   "cell_type": "markdown",
   "metadata": {},
   "source": [
    "# Group HWA1 - 5"
   ]
  },
  {
   "cell_type": "code",
   "execution_count": 3,
   "metadata": {},
   "outputs": [],
   "source": [
    "import numpy as np\n",
    "import matplotlib.pyplot as plt\n",
    "import pandas as pd\n",
    "# Parameters\n",
    "S_0 = 1\n",
    "r = 0.05\n",
    "sigma = 0.2\n",
    "K = 1\n",
    "M = 200\n",
    "T = 1\n",
    "N = 10000"
   ]
  },
  {
   "cell_type": "code",
   "execution_count": null,
   "metadata": {},
   "outputs": [
    {
     "name": "stdout",
     "output_type": "stream",
     "text": [
      "S's shape: 200\n"
     ]
    }
   ],
   "source": [
    "dt = T/M\n",
    "np.random.seed(3407)\n",
    "def get_S_values(S_0,r,sigma,K):\n",
    "    S_values = [S_0]\n",
    "    for i in range(0,M):\n",
    "        z = np.random.normal(0,1)\n",
    "        S_value = S_values[i] * np.exp((r - 0.5*sigma**2)*dt + \n",
    "                              sigma*np.sqrt(dt)*z)\n",
    "        S_values.append(S_value)\n",
    "    return S_values[:-1]\n",
    "\n",
    "\n",
    "S = get_S_values(S_0,r,sigma,K)\n",
    "print(f'S\\'s shape: {len(S)}')"
   ]
  },
  {
   "cell_type": "code",
   "execution_count": 18,
   "metadata": {},
   "outputs": [],
   "source": [
    "Asian_option_values = []\n",
    "def  get_Asian_option_values(S,r,T,M,K):\n",
    "    #S = S[1:]\n",
    "    Asian = np.exp(-r*T)*np.maximum(np.mean(S)-K,0)\n",
    "    return Asian\n",
    "\n",
    "for i in range(0,N):\n",
    "    S = get_S_values(S_0,r,sigma,K)\n",
    "    Asian_option_values.append(get_Asian_option_values(S,r,T,M,K))"
   ]
  },
  {
   "cell_type": "code",
   "execution_count": 19,
   "metadata": {},
   "outputs": [
    {
     "data": {
      "text/plain": [
       "0.05735175635564008"
      ]
     },
     "execution_count": 19,
     "metadata": {},
     "output_type": "execute_result"
    }
   ],
   "source": [
    "Asian_option_values = np.array(Asian_option_values)\n",
    "Asian_option_values.mean()"
   ]
  },
  {
   "cell_type": "code",
   "execution_count": 22,
   "metadata": {},
   "outputs": [
    {
     "name": "stdout",
     "output_type": "stream",
     "text": [
      "Asian option value: 0.05735175635564008\n",
      "Error: 0.0007875480420342061\n"
     ]
    }
   ],
   "source": [
    "error = Asian_option_values.std()/np.sqrt(N)\n",
    "print(f'Asian option value: {Asian_option_values.mean()}')\n",
    "print(f'Error: {error}')"
   ]
  },
  {
   "cell_type": "code",
   "execution_count": 16,
   "metadata": {},
   "outputs": [
    {
     "data": {
      "text/plain": [
       "(array([4.638e+03, 2.370e+02, 2.770e+02, 2.350e+02, 2.410e+02, 2.400e+02,\n",
       "        2.530e+02, 2.130e+02, 2.200e+02, 2.210e+02, 2.300e+02, 1.840e+02,\n",
       "        2.060e+02, 1.850e+02, 1.700e+02, 1.570e+02, 1.490e+02, 1.480e+02,\n",
       "        1.570e+02, 1.340e+02, 1.320e+02, 1.200e+02, 1.110e+02, 1.030e+02,\n",
       "        1.030e+02, 8.600e+01, 7.800e+01, 7.900e+01, 5.900e+01, 6.900e+01,\n",
       "        5.000e+01, 4.700e+01, 5.400e+01, 3.800e+01, 4.200e+01, 3.500e+01,\n",
       "        2.900e+01, 3.700e+01, 2.100e+01, 2.900e+01, 2.200e+01, 2.000e+01,\n",
       "        1.300e+01, 1.800e+01, 1.800e+01, 1.000e+01, 5.000e+00, 9.000e+00,\n",
       "        5.000e+00, 5.000e+00, 8.000e+00, 3.000e+00, 1.000e+01, 2.000e+00,\n",
       "        8.000e+00, 1.000e+00, 2.000e+00, 4.000e+00, 0.000e+00, 2.000e+00,\n",
       "        2.000e+00, 2.000e+00, 2.000e+00, 2.000e+00, 1.000e+00, 0.000e+00,\n",
       "        1.000e+00, 1.000e+00, 0.000e+00, 1.000e+00, 0.000e+00, 0.000e+00,\n",
       "        1.000e+00, 1.000e+00, 0.000e+00, 0.000e+00, 1.000e+00, 0.000e+00,\n",
       "        0.000e+00, 0.000e+00, 1.000e+00, 0.000e+00, 0.000e+00, 0.000e+00,\n",
       "        0.000e+00, 0.000e+00, 0.000e+00, 0.000e+00, 0.000e+00, 1.000e+00,\n",
       "        0.000e+00, 0.000e+00, 0.000e+00, 0.000e+00, 0.000e+00, 0.000e+00,\n",
       "        0.000e+00, 0.000e+00, 0.000e+00, 1.000e+00]),\n",
       " array([0.        , 0.00703606, 0.01407212, 0.02110818, 0.02814424,\n",
       "        0.0351803 , 0.04221636, 0.04925241, 0.05628847, 0.06332453,\n",
       "        0.07036059, 0.07739665, 0.08443271, 0.09146877, 0.09850483,\n",
       "        0.10554089, 0.11257695, 0.11961301, 0.12664907, 0.13368513,\n",
       "        0.14072118, 0.14775724, 0.1547933 , 0.16182936, 0.16886542,\n",
       "        0.17590148, 0.18293754, 0.1899736 , 0.19700966, 0.20404572,\n",
       "        0.21108178, 0.21811784, 0.2251539 , 0.23218995, 0.23922601,\n",
       "        0.24626207, 0.25329813, 0.26033419, 0.26737025, 0.27440631,\n",
       "        0.28144237, 0.28847843, 0.29551449, 0.30255055, 0.30958661,\n",
       "        0.31662267, 0.32365872, 0.33069478, 0.33773084, 0.3447669 ,\n",
       "        0.35180296, 0.35883902, 0.36587508, 0.37291114, 0.3799472 ,\n",
       "        0.38698326, 0.39401932, 0.40105538, 0.40809144, 0.41512749,\n",
       "        0.42216355, 0.42919961, 0.43623567, 0.44327173, 0.45030779,\n",
       "        0.45734385, 0.46437991, 0.47141597, 0.47845203, 0.48548809,\n",
       "        0.49252415, 0.49956021, 0.50659626, 0.51363232, 0.52066838,\n",
       "        0.52770444, 0.5347405 , 0.54177656, 0.54881262, 0.55584868,\n",
       "        0.56288474, 0.5699208 , 0.57695686, 0.58399292, 0.59102898,\n",
       "        0.59806503, 0.60510109, 0.61213715, 0.61917321, 0.62620927,\n",
       "        0.63324533, 0.64028139, 0.64731745, 0.65435351, 0.66138957,\n",
       "        0.66842563, 0.67546169, 0.68249775, 0.6895338 , 0.69656986,\n",
       "        0.70360592]),\n",
       " <BarContainer object of 100 artists>)"
      ]
     },
     "execution_count": 16,
     "metadata": {},
     "output_type": "execute_result"
    },
    {
     "data": {
      "image/png": "[encoded data removed]",
      "text/plain": [
       "<Figure size 640x480 with 1 Axes>"
      ]
     },
     "metadata": {},
     "output_type": "display_data"
    }
   ],
   "source": [
    "import matplotlib.pyplot as plt\n",
    "plt.hist(Asian_option_values, bins=100)"
   ]
  },
  {
   "cell_type": "code",
   "execution_count": null,
   "metadata": {},
   "outputs": [],
   "source": []
  }
 ],
 "metadata": {
  "kernelspec": {
   "display_name": "Python 3",
   "language": "python",
   "name": "python3"
  },
  "language_info": {
   "codemirror_mode": {
    "name": "ipython",
    "version": 3
   },
   "file_extension": ".py",
   "mimetype": "text/x-python",
   "name": "python",
   "nbconvert_exporter": "python",
   "pygments_lexer": "ipython3",
   "version": "3.10.11"
  }
 },
 "nbformat": 4,
 "nbformat_minor": 2
}
