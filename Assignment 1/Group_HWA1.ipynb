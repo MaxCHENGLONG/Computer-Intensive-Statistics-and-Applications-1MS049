{
 "cells": [
  {
   "cell_type": "markdown",
   "metadata": {},
   "source": [
    "# Group HWA1 - 5"
   ]
  },
  {
   "cell_type": "code",
   "execution_count": 4,
   "metadata": {},
   "outputs": [],
   "source": [
    "import numpy as np\n",
    "import matplotlib.pyplot as plt\n",
    "import pandas as pd\n",
    "# Parameters\n",
    "S_0 = 1\n",
    "r = 0.05\n",
    "sigma = 0.2\n",
    "K = 1\n",
    "M = 200\n",
    "T = 1\n",
    "N = 1000\n",
    "t_values = [m * T / M for m in range(1, M + 1)]\n",
    "t_values.insert(0, 0)"
   ]
  },
  {
   "cell_type": "code",
   "execution_count": 5,
   "metadata": {},
   "outputs": [],
   "source": [
    "np.random.seed(3407)\n",
    "def get_S_values(S_0,r,sigma,K):\n",
    "    S_values = [S_0]\n",
    "    Z = np.random.normal(0,1,M+1)\n",
    "    #Z = np.random.normal(0,1)\n",
    "    for m in range(1,M+1):\n",
    "        S_value = S_values[m-1] * np.exp((r - 0.5*sigma**2)*(t_values[m] - t_values[m-1]) + sigma * np.sqrt(t_values[m] - t_values[m-1])* Z[m])\n",
    "        #S_value = S_values[m-1] * np.exp((r - 0.5*sigma**2)*(t_values[m] - t_values[m-1]) + sigma * np.sqrt(t_values[m] - t_values[m-1])* Z)\n",
    "        S_values.append(S_value)\n",
    "    return S_values\n",
    "\n",
    "S = get_S_values(S_0,r,sigma,K)"
   ]
  },
  {
   "cell_type": "code",
   "execution_count": 6,
   "metadata": {},
   "outputs": [],
   "source": [
    "Asian_option_values = []\n",
    "def  get_Asian_option_values(S,r,T,M,K):\n",
    "    Asian_option_value = np.exp(-r*T)*np.maximum(np.mean(S)-K,0)\n",
    "    return Asian_option_value\n",
    "\n",
    "for i in range(0,N):\n",
    "    S = get_S_values(S_0,r,sigma,K)\n",
    "    Asian_option_values.append(get_Asian_option_values(S,r,T,M,K))"
   ]
  },
  {
   "cell_type": "code",
   "execution_count": 7,
   "metadata": {},
   "outputs": [
    {
     "name": "stdout",
     "output_type": "stream",
     "text": [
      "Asian_option_value:0.062496977610974835\n",
      "Varaince:0.007053986646557547\n",
      "Standerd_Error:0.002655934232347922\n"
     ]
    }
   ],
   "source": [
    "Asian_option_values = np.array(Asian_option_values)\n",
    "Asian_option_values.mean()\n",
    "print(f'Asian_option_value:{Asian_option_values.mean()}')\n",
    "Variance = 1/(N-1)*np.sum((Asian_option_values - Asian_option_values.mean())**2)\n",
    "print(f'Varaince:{Variance}')\n",
    "Standerd_Error = np.sqrt(Variance/N)\n",
    "print(f'Standerd_Error:{Standerd_Error}')"
   ]
  },
  {
   "cell_type": "code",
   "execution_count": 8,
   "metadata": {},
   "outputs": [],
   "source": [
    "def confidence_interval(alpha,Asian_option_values):\n",
    "    z = 1.96\n",
    "    mean = Asian_option_values.mean()\n",
    "    N = len(Asian_option_values)\n",
    "    standerd_error = np.sqrt(Variance/N)\n",
    "    lower_bound = mean - z*standerd_error\n",
    "    upper_bound = mean + z*standerd_error\n",
    "    return lower_bound,upper_bound"
   ]
  },
  {
   "cell_type": "code",
   "execution_count": 9,
   "metadata": {},
   "outputs": [
    {
     "name": "stdout",
     "output_type": "stream",
     "text": [
      "CI=(0.05729134651557291, 0.06770260870637676)\n"
     ]
    }
   ],
   "source": [
    "print(f'CI={confidence_interval(0.05,Asian_option_values)}')"
   ]
  },
  {
   "cell_type": "code",
   "execution_count": 10,
   "metadata": {},
   "outputs": [
    {
     "data": {
      "image/png": "[encoded data removed]",
      "text/plain": [
       "<Figure size 640x480 with 1 Axes>"
      ]
     },
     "metadata": {},
     "output_type": "display_data"
    }
   ],
   "source": [
    "import matplotlib.pyplot as plt\n",
    "plt.hist(Asian_option_values, bins=10)\n",
    "plt.title(\"Distribution of Asian Option Values\")\n",
    "plt.xlabel(\"Asian Option Value\")\n",
    "plt.ylabel(\"Frequency\")\n",
    "plt.show()"
   ]
  },
  {
   "cell_type": "code",
   "execution_count": null,
   "metadata": {},
   "outputs": [],
   "source": []
  }
 ],
 "metadata": {
  "kernelspec": {
   "display_name": "base",
   "language": "python",
   "name": "python3"
  },
  "language_info": {
   "codemirror_mode": {
    "name": "ipython",
    "version": 3
   },
   "file_extension": ".py",
   "mimetype": "text/x-python",
   "name": "python",
   "nbconvert_exporter": "python",
   "pygments_lexer": "ipython3",
   "version": "3.11.5"
  }
 },
 "nbformat": 4,
 "nbformat_minor": 2
}
