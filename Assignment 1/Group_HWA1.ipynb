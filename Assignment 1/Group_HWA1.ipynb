{
 "cells": [
  {
   "cell_type": "markdown",
   "metadata": {},
   "source": [
    "# Group HWA1 - 2"
   ]
  },
  {
   "cell_type": "markdown",
   "metadata": {},
   "source": [
    "$ p(x) \\le Mg(x) \\ \\text{for all} \\ x$\n",
    "- $p(x)$: target density\n",
    "- $g(x)$: the instrumental density or trial distribution"
   ]
  },
  {
   "cell_type": "markdown",
   "metadata": {},
   "source": [
    "## Algorithm: The Rejection Algorithm\n",
    "Given a current state $x^{(t)}$.\n",
    "- Draw $X = x$ from $g(\\cdot)$ and compute the ratio $r(x) = \\frac{p(x)}{Mg(x)} $.\n",
    "- Draw $U \\sim U(0,1)$ <br>\n",
    "$x^{(t+1)} = \n",
    "\\begin{cases} \n",
    "x & \\text{if } U \\le r(x), \\\\\n",
    "\\text{new trial} & \\text{otherwise}.\n",
    "\\end{cases}$"
   ]
  },
  {
   "cell_type": "markdown",
   "metadata": {},
   "source": [
    "Draw $X$ from density $g(x)$\n",
    "- the upper bound $\\overline{h}_n(x) = \\log\\{M_ng_n(x)\\}$\n",
    "- $\\overline{h}_n(x) = \\log\\{M_ng_n(x)\\}$ is formed by piecewise linear functions \n",
    "- It is formed by $r_n$ linear functions<br>\n",
    "$$\n",
    "g_n(x) = M_n^{-1} \\left\\{\n",
    "    \\exp(a_{-1} + b_{-1} x) 1_{[-\\infty, x_0]}(x) + \n",
    "    \\sum_{j=0}^{r_n} \\exp(a_j + b_j x) 1_{[x_j, x_{j+1}]}(x) + \n",
    "    \\exp(a_{r_n+1} + b_{r_n+1} x) 1_{[x_{r_n+1}, \\infty]}(x)\n",
    "\\right\\}\n",
    "$$\n",
    "where $M_n$ is the normalizaing constant that makes $g_n(x)$ a density function."
   ]
  },
  {
   "cell_type": "markdown",
   "metadata": {},
   "source": [
    "Our target density $g_n(x)$ <br>\n",
    "Our propsal density:\n",
    "- Uniform distirbution - density function: \n",
    "$$\n",
    "f(x; a, b) = \\begin{cases} \n",
    "\\frac{1}{b - a}, & a \\leq x \\leq b \\\\\n",
    "0, & \\text{otherwise}\n",
    "\\end{cases}\n",
    "$$\n",
    "- Exponential distribution - density function:\n",
    "$$f(x;\\lambda) = \\lambda e ^{-\\lambda x}, x \\geq 0\n",
    "$$"
   ]
  },
  {
   "cell_type": "code",
   "execution_count": 22,
   "metadata": {},
   "outputs": [],
   "source": [
    "N = 5000 # number of samples\n",
    "import numpy as np\n",
    "import matplotlib.pyplot as plt\n",
    "\n",
    "# parameters\n",
    "#based on the r_n values.\n",
    "# if r_n = 2 a_{-1}, a_{0}, a_{1},a_{2},a_{r_n+1 =3}\n",
    "# if r_n = 2 b_{-1}, b_{0}, b_{1},b_{2},b_{r_n+1 =3}\n",
    "parameters_a = [1.0,1.0,1.0,1.0,1.0]\n",
    "parameters_b = [2.0,2.0,2.0,2.0,2.0]\n",
    "#if r_n = 2 x_0=1,x_1=2,x_2 = 3,x_3 = 4\n",
    "x_points = [-np.inf,1,2,3,4,np.inf]\n",
    "def indictor_1(x,x_0):\n",
    "    if x<=x_0:\n",
    "        return 1\n",
    "    else:\n",
    "        return 0\n",
    "def indictor_2(x,x_j,x_j_1):\n",
    "    if x_j<=x<=x_j_1:\n",
    "        return 1\n",
    "    else:\n",
    "        return 0\n",
    "def indictor_3(x,x_j):\n",
    "    if x>=x_j:\n",
    "        return 1\n",
    "    else:\n",
    "        return 0\n",
    "# claculate the value of the log{M_ng_n(x)}\n",
    "def log_M_ng_n(x,parameters_a,parameters_b,x_points):\n",
    "    sum=0\n",
    "    sum = np.exp(parameters_a[0]+parameters_b[0]*x)*indictor_1(x,x_points[1]) + np.exp(parameters_a[4]+parameters_b[4]*x)*indictor_3(x,x_points[4])\n",
    "    print(sum)\n",
    "    for i in range(1,4): # 1 to r_n+2\n",
    "        sum += np.exp(parameters_a[i]+parameters_b[i]*x)*indictor_2(x,x_points[i],x_points[i+1])\n",
    "        print(sum)\n",
    "    return np.log(sum)"
   ]
  },
  {
   "cell_type": "code",
   "execution_count": null,
   "metadata": {},
   "outputs": [],
   "source": []
  }
 ],
 "metadata": {
  "kernelspec": {
   "display_name": "Python 3",
   "language": "python",
   "name": "python3"
  },
  "language_info": {
   "codemirror_mode": {
    "name": "ipython",
    "version": 3
   },
   "file_extension": ".py",
   "mimetype": "text/x-python",
   "name": "python",
   "nbconvert_exporter": "python",
   "pygments_lexer": "ipython3",
   "version": "3.10.11"
  }
 },
 "nbformat": 4,
 "nbformat_minor": 2
}
