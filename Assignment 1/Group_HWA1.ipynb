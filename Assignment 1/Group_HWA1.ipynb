{
 "cells": [
  {
   "cell_type": "markdown",
   "metadata": {},
   "source": [
    "# Group HWA1 - 2"
   ]
  },
  {
   "cell_type": "markdown",
   "metadata": {},
   "source": [
    "Draw $X$ from density $g(x)$\n",
    "- the upper bound $\\overline{h}_n(x) = \\log\\{M_ng_n(x)\\}$\n",
    "- $\\overline{h}_n(x) = \\log\\{M_ng_n(x)\\}$ is formed by piecewise linear functions \n",
    "- It is formed by $r_n$ linear functions<br>\n",
    "$$\n",
    "g_n(x) = M_n^{-1} \\left\\{\n",
    "    \\exp(a_{-1} + b_{-1} x) 1_{[-\\infty, x_0]}(x) + \n",
    "    \\sum_{j=0}^{r_n} \\exp(a_j + b_j x) 1_{[x_j, x_{j+1}]}(x) + \n",
    "    \\exp(a_{r_n+1} + b_{r_n+1} x) 1_{[x_{r_n+1}, \\infty]}(x)\n",
    "\\right\\}\n",
    "$$\n",
    "where $M_n$ is the normalizaing constant that makes $g_n(x)$ a density function."
   ]
  },
  {
   "cell_type": "code",
   "execution_count": 5,
   "metadata": {},
   "outputs": [],
   "source": [
    "import pandas as pd\n",
    "import numpy as np\n",
    "import matplotlib.pyplot as plt"
   ]
  },
  {
   "cell_type": "code",
   "execution_count": null,
   "metadata": {},
   "outputs": [],
   "source": []
  },
  {
   "cell_type": "markdown",
   "metadata": {},
   "source": [
    "# Group HWA1 - 5"
   ]
  },
  {
   "cell_type": "code",
   "execution_count": 7,
   "metadata": {},
   "outputs": [],
   "source": [
    "import numpy as np\n",
    "import matplotlib.pyplot as plt\n",
    "import pandas as pd"
   ]
  },
  {
   "cell_type": "code",
   "execution_count": 89,
   "metadata": {},
   "outputs": [],
   "source": [
    "S_0 = 1\n",
    "r = 0.05\n",
    "sigma = 0.2\n",
    "K = 1\n",
    "M = 200\n",
    "T = 1\n",
    "N = 10000"
   ]
  },
  {
   "cell_type": "code",
   "execution_count": 90,
   "metadata": {},
   "outputs": [
    {
     "name": "stdout",
     "output_type": "stream",
     "text": [
      "S's shape: 200\n"
     ]
    }
   ],
   "source": [
    "# def get_t_values(T,M):\n",
    "#     t_values = []\n",
    "#     for i in range(0,M-1):\n",
    "#         t_value = i*T/M\n",
    "#         t_values.append(t_value)\n",
    "#     return t_values\n",
    "\n",
    "dt = T/M\n",
    "def get_S_values(S_0,r,sigma,K,t_values):\n",
    "    S_values = [S_0]\n",
    "    for i in range(0,M):  # Changed range to avoid index out of bounds\n",
    "        z = np.random.normal(0,1)\n",
    "        # Fixed multiplication syntax with * operator and proper parentheses\n",
    "        S_value = S_values[i] * np.exp((r - 0.5*sigma**2)*dt + \n",
    "                              sigma*np.sqrt(dt)*z)\n",
    "        S_values.append(S_value)\n",
    "    return S_values[:-1]\n",
    "\n",
    "\n",
    "S = get_S_values(S_0,r,sigma,K,t)\n",
    "print(f'S\\'s shape: {len(S)}')"
   ]
  },
  {
   "cell_type": "code",
   "execution_count": 91,
   "metadata": {},
   "outputs": [],
   "source": [
    "Asian_option_values = []\n",
    "def  get_Asian_option_values(S,r,T,M,K):\n",
    "    #S = S[1:]\n",
    "    Asian = np.exp(-r*T)*np.maximum(np.mean(S)-K,0)\n",
    "    return Asian\n",
    "\n",
    "for i in range(0,N):\n",
    "    S = get_S_values(S_0,r,sigma,K,t)\n",
    "    Asian_option_values.append(get_Asian_option_values(S,r,T,M,K))"
   ]
  },
  {
   "cell_type": "code",
   "execution_count": 92,
   "metadata": {},
   "outputs": [
    {
     "data": {
      "text/plain": [
       "0.05664769042812046"
      ]
     },
     "execution_count": 92,
     "metadata": {},
     "output_type": "execute_result"
    }
   ],
   "source": [
    "Asian_option_values = np.array(Asian_option_values)\n",
    "Asian_option_values.mean()"
   ]
  },
  {
   "cell_type": "code",
   "execution_count": 85,
   "metadata": {},
   "outputs": [
    {
     "data": {
      "text/plain": [
       "(array([434.,  14.,  24.,  19.,  18.,  24.,   8.,  12.,  15.,  12.,  11.,\n",
       "         21.,  20.,  15.,  16.,   8.,  16.,  13.,   5.,   5.,  12.,  12.,\n",
       "          9.,  17.,  13.,   6.,  12.,   4.,   9.,  11.,  10.,  12.,   9.,\n",
       "          6.,  10.,   7.,   7.,  11.,   6.,   8.,   5.,   5.,   4.,   3.,\n",
       "          7.,   8.,   2.,   3.,   5.,   4.,   1.,   3.,   1.,   0.,   4.,\n",
       "          1.,   3.,   5.,   1.,   4.,   2.,   2.,   2.,   1.,   2.,   3.,\n",
       "          2.,   2.,   1.,   3.,   1.,   0.,   0.,   2.,   1.,   1.,   1.,\n",
       "          0.,   0.,   0.,   0.,   0.,   0.,   0.,   0.,   1.,   2.,   0.,\n",
       "          0.,   0.,   0.,   0.,   0.,   0.,   0.,   0.,   0.,   0.,   0.,\n",
       "          1.]),\n",
       " array([0.        , 0.00424946, 0.00849892, 0.01274838, 0.01699784,\n",
       "        0.0212473 , 0.02549676, 0.02974622, 0.03399568, 0.03824514,\n",
       "        0.0424946 , 0.04674406, 0.05099352, 0.05524298, 0.05949244,\n",
       "        0.06374189, 0.06799135, 0.07224081, 0.07649027, 0.08073973,\n",
       "        0.08498919, 0.08923865, 0.09348811, 0.09773757, 0.10198703,\n",
       "        0.10623649, 0.11048595, 0.11473541, 0.11898487, 0.12323433,\n",
       "        0.12748379, 0.13173325, 0.13598271, 0.14023217, 0.14448163,\n",
       "        0.14873109, 0.15298055, 0.15723001, 0.16147947, 0.16572893,\n",
       "        0.16997839, 0.17422785, 0.17847731, 0.18272677, 0.18697622,\n",
       "        0.19122568, 0.19547514, 0.1997246 , 0.20397406, 0.20822352,\n",
       "        0.21247298, 0.21672244, 0.2209719 , 0.22522136, 0.22947082,\n",
       "        0.23372028, 0.23796974, 0.2422192 , 0.24646866, 0.25071812,\n",
       "        0.25496758, 0.25921704, 0.2634665 , 0.26771596, 0.27196542,\n",
       "        0.27621488, 0.28046434, 0.2847138 , 0.28896326, 0.29321272,\n",
       "        0.29746218, 0.30171164, 0.3059611 , 0.31021055, 0.31446001,\n",
       "        0.31870947, 0.32295893, 0.32720839, 0.33145785, 0.33570731,\n",
       "        0.33995677, 0.34420623, 0.34845569, 0.35270515, 0.35695461,\n",
       "        0.36120407, 0.36545353, 0.36970299, 0.37395245, 0.37820191,\n",
       "        0.38245137, 0.38670083, 0.39095029, 0.39519975, 0.39944921,\n",
       "        0.40369867, 0.40794813, 0.41219759, 0.41644705, 0.42069651,\n",
       "        0.42494597]),\n",
       " <BarContainer object of 100 artists>)"
      ]
     },
     "execution_count": 85,
     "metadata": {},
     "output_type": "execute_result"
    },
    {
     "data": {
      "image/png": "[encoded data removed]",
      "text/plain": [
       "<Figure size 640x480 with 1 Axes>"
      ]
     },
     "metadata": {},
     "output_type": "display_data"
    }
   ],
   "source": [
    "import matplotlib.pyplot as plt\n",
    "plt.hist(Asian_option_values, bins=100)"
   ]
  },
  {
   "cell_type": "code",
   "execution_count": null,
   "metadata": {},
   "outputs": [],
   "source": []
  }
 ],
 "metadata": {
  "kernelspec": {
   "display_name": "Python 3",
   "language": "python",
   "name": "python3"
  },
  "language_info": {
   "codemirror_mode": {
    "name": "ipython",
    "version": 3
   },
   "file_extension": ".py",
   "mimetype": "text/x-python",
   "name": "python",
   "nbconvert_exporter": "python",
   "pygments_lexer": "ipython3",
   "version": "3.10.11"
  }
 },
 "nbformat": 4,
 "nbformat_minor": 2
}
