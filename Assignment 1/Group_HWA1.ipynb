{
 "cells": [
  {
   "cell_type": "markdown",
   "metadata": {},
   "source": [
    "# Group HWA1 - 2"
   ]
  },
  {
   "cell_type": "markdown",
   "metadata": {},
   "source": [
    "Draw $X$ from density $g(x)$\n",
    "- the upper bound $\\overline{h}_n(x) = \\log\\{M_ng_n(x)\\}$\n",
    "- $\\overline{h}_n(x) = \\log\\{M_ng_n(x)\\}$ is formed by piecewise linear functions \n",
    "- It is formed by $r_n$ linear functions<br>\n",
    "$$\n",
    "g_n(x) = M_n^{-1} \\left\\{\n",
    "    \\exp(a_{-1} + b_{-1} x) 1_{[-\\infty, x_0]}(x) + \n",
    "    \\sum_{j=0}^{r_n} \\exp(a_j + b_j x) 1_{[x_j, x_{j+1}]}(x) + \n",
    "    \\exp(a_{r_n+1} + b_{r_n+1} x) 1_{[x_{r_n+1}, \\infty]}(x)\n",
    "\\right\\}\n",
    "$$\n",
    "where $M_n$ is the normalizaing constant that makes $g_n(x)$ a density function."
   ]
  },
  {
   "cell_type": "code",
   "execution_count": 1,
   "metadata": {},
   "outputs": [],
   "source": [
    "import pandas as pd\n",
    "import numpy as np\n",
    "import matplotlib.pyplot as plt\n",
    "np.random.seed(3407)"
   ]
  },
  {
   "cell_type": "code",
   "execution_count": null,
   "metadata": {},
   "outputs": [
    {
     "name": "stderr",
     "output_type": "stream",
     "text": [
      "/var/folders/hr/2t7hsj753qg3n1q7zbnr625m0000gn/T/ipykernel_21634/1656240952.py:31: RuntimeWarning: overflow encountered in exp\n",
      "  if U <= np.exp(get_g(X) - upperbound(X)):\n"
     ]
    },
    {
     "data": {
      "text/plain": [
       "(array([1.24541276, 0.90185062, 0.62986392, 0.73006955, 0.64417901,\n",
       "        0.77301481, 0.50102812, 0.61554883, 0.7873299 , 0.64417901,\n",
       "        0.37219232, 0.4008225 , 0.44376776, 0.28630178, 0.30061687,\n",
       "        0.37219232, 0.2576716 , 0.30061687, 0.30061687, 0.24335652,\n",
       "        0.27198669, 0.20041125, 0.22904143, 0.27198669, 0.18609616,\n",
       "        0.14315089, 0.1288358 , 0.08589053, 0.14315089, 0.10020562,\n",
       "        0.14315089, 0.1288358 , 0.05726036, 0.11452071, 0.1288358 ,\n",
       "        0.01431509, 0.07157545, 0.11452071, 0.08589053, 0.02863018,\n",
       "        0.07157545, 0.02863018, 0.04294527, 0.04294527, 0.04294527,\n",
       "        0.01431509, 0.10020562, 0.07157545, 0.04294527, 0.        ,\n",
       "        0.02863018, 0.01431509, 0.01431509, 0.01431509, 0.04294527,\n",
       "        0.01431509, 0.        , 0.02863018, 0.01431509, 0.02863018,\n",
       "        0.01431509, 0.        , 0.01431509, 0.01431509, 0.01431509,\n",
       "        0.01431509, 0.02863018, 0.01431509, 0.01431509, 0.        ,\n",
       "        0.01431509, 0.02863018, 0.        , 0.        , 0.        ,\n",
       "        0.01431509, 0.        , 0.        , 0.02863018, 0.        ,\n",
       "        0.01431509, 0.01431509, 0.        , 0.        , 0.        ,\n",
       "        0.        , 0.        , 0.        , 0.        , 0.        ,\n",
       "        0.        , 0.        , 0.        , 0.        , 0.        ,\n",
       "        0.        , 0.        , 0.        , 0.        , 0.01431509]),\n",
       " array([2.17788440e-04, 7.00741469e-02, 1.39930505e-01, 2.09786864e-01,\n",
       "        2.79643222e-01, 3.49499581e-01, 4.19355939e-01, 4.89212298e-01,\n",
       "        5.59068656e-01, 6.28925015e-01, 6.98781373e-01, 7.68637732e-01,\n",
       "        8.38494090e-01, 9.08350449e-01, 9.78206807e-01, 1.04806317e+00,\n",
       "        1.11791952e+00, 1.18777588e+00, 1.25763224e+00, 1.32748860e+00,\n",
       "        1.39734496e+00, 1.46720132e+00, 1.53705767e+00, 1.60691403e+00,\n",
       "        1.67677039e+00, 1.74662675e+00, 1.81648311e+00, 1.88633947e+00,\n",
       "        1.95619583e+00, 2.02605218e+00, 2.09590854e+00, 2.16576490e+00,\n",
       "        2.23562126e+00, 2.30547762e+00, 2.37533398e+00, 2.44519034e+00,\n",
       "        2.51504669e+00, 2.58490305e+00, 2.65475941e+00, 2.72461577e+00,\n",
       "        2.79447213e+00, 2.86432849e+00, 2.93418484e+00, 3.00404120e+00,\n",
       "        3.07389756e+00, 3.14375392e+00, 3.21361028e+00, 3.28346664e+00,\n",
       "        3.35332300e+00, 3.42317935e+00, 3.49303571e+00, 3.56289207e+00,\n",
       "        3.63274843e+00, 3.70260479e+00, 3.77246115e+00, 3.84231750e+00,\n",
       "        3.91217386e+00, 3.98203022e+00, 4.05188658e+00, 4.12174294e+00,\n",
       "        4.19159930e+00, 4.26145566e+00, 4.33131201e+00, 4.40116837e+00,\n",
       "        4.47102473e+00, 4.54088109e+00, 4.61073745e+00, 4.68059381e+00,\n",
       "        4.75045016e+00, 4.82030652e+00, 4.89016288e+00, 4.96001924e+00,\n",
       "        5.02987560e+00, 5.09973196e+00, 5.16958832e+00, 5.23944467e+00,\n",
       "        5.30930103e+00, 5.37915739e+00, 5.44901375e+00, 5.51887011e+00,\n",
       "        5.58872647e+00, 5.65858282e+00, 5.72843918e+00, 5.79829554e+00,\n",
       "        5.86815190e+00, 5.93800826e+00, 6.00786462e+00, 6.07772098e+00,\n",
       "        6.14757733e+00, 6.21743369e+00, 6.28729005e+00, 6.35714641e+00,\n",
       "        6.42700277e+00, 6.49685913e+00, 6.56671548e+00, 6.63657184e+00,\n",
       "        6.70642820e+00, 6.77628456e+00, 6.84614092e+00, 6.91599728e+00,\n",
       "        6.98585364e+00]),\n",
       " <BarContainer object of 100 artists>)"
      ]
     },
     "execution_count": 12,
     "metadata": {},
     "output_type": "execute_result"
    },
    {
     "data": {
      "image/png": "[encoded data removed]",
      "text/plain": [
       "<Figure size 640x480 with 1 Axes>"
      ]
     },
     "metadata": {},
     "output_type": "display_data"
    }
   ],
   "source": [
    "#parameters\n",
    "r_n  = 2\n",
    "a_negative = -1\n",
    "b_negative = 1\n",
    "parameter_a = [1,1,1]\n",
    "parameter_b = [2,2,2]\n",
    "a_plus = -2\n",
    "b_plus = 3\n",
    "S_n = [0,1,2,3] #from g(x) # x_0 ,x_1, x_2, x_3\n",
    "\n",
    "def get_upper_bound(x):\n",
    "    if x <= S_n[0]:\n",
    "        return a_negative + b_negative*x\n",
    "    elif x >=S_n[r_n+1]:\n",
    "        return a_plus + b_plus*x\n",
    "    else:\n",
    "        ans = 0\n",
    "        for i in range(r_n):\n",
    "            if S_n[i] <= x and x <= S_n[i+1]:\n",
    "                ans+= (parameter_a[i] + parameter_b[i]*x)\n",
    "        return ans\n",
    "\n",
    "def get_line(x1,y1,x2,y2):\n",
    "    if x1 == x2:\n",
    "        return f\"x = {x1}\"\n",
    "    else:\n",
    "        m = (y2 - y1) / (x2 - x1)\n",
    "    b = y1 - m*x1\n",
    "    return m,b\n",
    "\n",
    "def get_lower_bound(x):\n",
    "    \n",
    "    \n"
   ]
  },
  {
   "cell_type": "markdown",
   "metadata": {},
   "source": [
    "# Group HWA1 - 5"
   ]
  },
  {
   "cell_type": "code",
   "execution_count": 1,
   "metadata": {},
   "outputs": [],
   "source": [
    "import numpy as np\n",
    "import matplotlib.pyplot as plt\n",
    "import pandas as pd\n",
    "# Parameters\n",
    "S_0 = 1\n",
    "r = 0.05\n",
    "sigma = 0.2\n",
    "K = 1\n",
    "M = 200\n",
    "T = 1\n",
    "N = 1000\n",
    "t_values = [m * T / M for m in range(1, M + 1)]\n",
    "t_values.insert(0, 0)"
   ]
  },
  {
   "cell_type": "code",
   "execution_count": null,
   "metadata": {},
   "outputs": [],
   "source": [
    "np.random.seed(3407)\n",
    "def get_S_values(S_0,r,sigma,K):\n",
    "    S_values = [S_0]\n",
    "    Z = np.random.normal(0,1,M+1)\n",
    "    #Z = np.random.normal(0,1)\n",
    "    for m in range(1,M+1):\n",
    "        S_value = S_values[m-1] * np.exp((r - 0.5*sigma**2)*(t_values[m] - t_values[m-1]) + sigma * np.sqrt(t_values[m] - t_values[m-1])* Z[m])\n",
    "        #S_value = S_values[m-1] * np.exp((r - 0.5*sigma**2)*(t_values[m] - t_values[m-1]) + sigma * np.sqrt(t_values[m] - t_values[m-1])* Z)\n",
    "        S_values.append(S_value)\n",
    "    return S_values\n",
    "\n",
    "S = get_S_values(S_0,r,sigma,K)"
   ]
  },
  {
   "cell_type": "code",
   "execution_count": 3,
   "metadata": {},
   "outputs": [],
   "source": [
    "Asian_option_values = []\n",
    "def  get_Asian_option_values(S,r,T,M,K):\n",
    "    Asian_option_value = np.exp(-r*T)*np.maximum(np.mean(S)-K,0)\n",
    "    return Asian_option_value\n",
    "\n",
    "for i in range(0,N):\n",
    "    S = get_S_values(S_0,r,sigma,K)\n",
    "    Asian_option_values.append(get_Asian_option_values(S,r,T,M,K))"
   ]
  },
  {
   "cell_type": "code",
   "execution_count": null,
   "metadata": {},
   "outputs": [
    {
     "name": "stdout",
     "output_type": "stream",
     "text": [
      "Asian_option_value:0.062496977610974835\n",
      "Varaince:0.007053986646557547\n",
      "Standerd_Error:0.002655934232347922\n"
     ]
    }
   ],
   "source": [
    "Asian_option_values = np.array(Asian_option_values)\n",
    "Asian_option_values.mean()\n",
    "print(f'Asian_option_value:{Asian_option_values.mean()}')\n",
    "Variance = 1/(N-1)*np.sum((Asian_option_values - Asian_option_values.mean())**2)\n",
    "print(f'Varaince:{Variance}')\n",
    "Standerd_Error = np.sqrt(Variance/N)\n",
    "print(f'Standerd_Error:{Standerd_Error}')"
   ]
  },
  {
   "cell_type": "code",
   "execution_count": 12,
   "metadata": {},
   "outputs": [],
   "source": [
    "def confidence_interval(alpha,Asian_option_values):\n",
    "    z = 1.96\n",
    "    mean = Asian_option_values.mean()\n",
    "    N = len(Asian_option_values)\n",
    "    standerd_error = np.sqrt(Variance/N)\n",
    "    lower_bound = mean - z*standerd_error\n",
    "    upper_bound = mean + z*standerd_error\n",
    "    return lower_bound,upper_bound"
   ]
  },
  {
   "cell_type": "code",
   "execution_count": 13,
   "metadata": {},
   "outputs": [
    {
     "name": "stdout",
     "output_type": "stream",
     "text": [
      "CI=(0.05729134651557291, 0.06770260870637676)\n"
     ]
    }
   ],
   "source": [
    "print(f'CI={confidence_interval(0.05,Asian_option_values)}')"
   ]
  },
  {
   "cell_type": "code",
   "execution_count": 8,
   "metadata": {},
   "outputs": [
    {
     "data": {
      "image/png": "[encoded data removed]",
      "text/plain": [
       "<Figure size 640x480 with 1 Axes>"
      ]
     },
     "metadata": {},
     "output_type": "display_data"
    }
   ],
   "source": [
    "import matplotlib.pyplot as plt\n",
    "plt.hist(Asian_option_values, bins=10)\n",
    "plt.title(\"Distribution of Asian Option Values\")\n",
    "plt.xlabel(\"Asian Option Value\")\n",
    "plt.ylabel(\"Frequency\")\n",
    "plt.show()"
   ]
  },
  {
   "cell_type": "code",
   "execution_count": null,
   "metadata": {},
   "outputs": [],
   "source": []
  }
 ],
 "metadata": {
  "kernelspec": {
   "display_name": "base",
   "language": "python",
   "name": "python3"
  },
  "language_info": {
   "codemirror_mode": {
    "name": "ipython",
    "version": 3
   },
   "file_extension": ".py",
   "mimetype": "text/x-python",
   "name": "python",
   "nbconvert_exporter": "python",
   "pygments_lexer": "ipython3",
   "version": "3.11.5"
  }
 },
 "nbformat": 4,
 "nbformat_minor": 2
}
